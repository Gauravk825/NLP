{
 "cells": [
  {
   "cell_type": "code",
   "execution_count": 1,
   "metadata": {},
   "outputs": [],
   "source": [
    "import nltk\n",
    "from nltk.tokenize import word_tokenize\n",
    "import numpy as np"
   ]
  },
  {
   "cell_type": "markdown",
   "metadata": {},
   "source": [
    "Q1"
   ]
  },
  {
   "cell_type": "code",
   "execution_count": 2,
   "metadata": {},
   "outputs": [],
   "source": [
    "sent  = 'They told that their ages are 23, 25 and 29 respectively.'"
   ]
  },
  {
   "cell_type": "code",
   "execution_count": 3,
   "metadata": {},
   "outputs": [
    {
     "name": "stdout",
     "output_type": "stream",
     "text": [
      "26.0\n"
     ]
    }
   ],
   "source": [
    "# 1 Find the average of ages\n",
    "ages = [int(word) for word in word_tokenize(sent) if word.isdigit()]\n",
    "#print(ages)  # Output: [23, 25, 29]\n",
    "print(np.round(np.sum(ages)/len(ages)))"
   ]
  },
  {
   "cell_type": "code",
   "execution_count": 4,
   "metadata": {},
   "outputs": [
    {
     "name": "stdout",
     "output_type": "stream",
     "text": [
      "4\n"
     ]
    }
   ],
   "source": [
    "# 2 Count total number of words starts with 't'/'T'\n",
    "print(len([word for word in word_tokenize(sent) if word.lower().startswith('t')]))"
   ]
  },
  {
   "cell_type": "code",
   "execution_count": 5,
   "metadata": {},
   "outputs": [
    {
     "name": "stdout",
     "output_type": "stream",
     "text": [
      "2\n"
     ]
    }
   ],
   "source": [
    "# 3. Count total punctuation symbols\n",
    "import string\n",
    "punctuations = string.punctuation\n",
    "print(len([word for word in word_tokenize(sent) if word in punctuations]))"
   ]
  },
  {
   "cell_type": "code",
   "execution_count": 6,
   "metadata": {},
   "outputs": [
    {
     "name": "stdout",
     "output_type": "stream",
     "text": [
      "['TOLD', 'AND']\n"
     ]
    }
   ],
   "source": [
    "# 4. Print the words in capital letter which ends with 'd'\n",
    "print([word.upper() for word in word_tokenize(sent) if word.endswith('d')])"
   ]
  },
  {
   "cell_type": "code",
   "execution_count": 7,
   "metadata": {},
   "outputs": [
    {
     "name": "stdout",
     "output_type": "stream",
     "text": [
      "They told that their ages are 23 25 and 29 respectively\n"
     ]
    }
   ],
   "source": [
    "# 5. Merge all the words and print (no punctuations)\n",
    "print(\" \".join([word for word in word_tokenize(sent) if word not in punctuations]))"
   ]
  },
  {
   "cell_type": "markdown",
   "metadata": {},
   "source": [
    "Q2"
   ]
  },
  {
   "cell_type": "code",
   "execution_count": 8,
   "metadata": {},
   "outputs": [],
   "source": [
    "# Open the wikipedia page of indian flag and perform following analysis\n",
    "sent = \"The national flag of India, colloquially called Tiraṅgā (the tricolour), is a horizontal rectangular tricolour flag, the colours being of India saffron, white and India green; with the Ashoka Chakra, a 24-spoke wheel, in navy blue at its centre.[1][2] It was adopted in its present form during a meeting of the Constituent Assembly held on 22 July 1947, and it became the official flag of the Union of India on 15 August 1947. The flag was subsequently retained as that of the Republic of India. In India, the term 'tricolour' almost always refers to the Indian national flag.\""
   ]
  },
  {
   "cell_type": "code",
   "execution_count": 9,
   "metadata": {},
   "outputs": [
    {
     "name": "stdout",
     "output_type": "stream",
     "text": [
      "Total words: 120\n"
     ]
    }
   ],
   "source": [
    "# 1. Count total number of Words\n",
    "print(f\"Total words: {len(word_tokenize(sent))}\")\n"
   ]
  },
  {
   "cell_type": "code",
   "execution_count": 10,
   "metadata": {},
   "outputs": [
    {
     "name": "stdout",
     "output_type": "stream",
     "text": [
      "Percentage of punctuation marks: 0.17\n"
     ]
    }
   ],
   "source": [
    "# 2. Count percentage of punctuation marks\n",
    "print(f\"Percentage of punctuation marks: {len([word for word in word_tokenize(sent) if word in punctuations])/len(word_tokenize(sent)) :.2f}\")"
   ]
  },
  {
   "cell_type": "code",
   "execution_count": 11,
   "metadata": {},
   "outputs": [
    {
     "name": "stdout",
     "output_type": "stream",
     "text": [
      "1\n"
     ]
    }
   ],
   "source": [
    "# 3. Print total number of lines\n",
    "from nltk.tokenize import LineTokenizer\n",
    "tk = LineTokenizer()\n",
    "print(len(tk.tokenize(sent)))"
   ]
  },
  {
   "cell_type": "code",
   "execution_count": 12,
   "metadata": {},
   "outputs": [
    {
     "name": "stdout",
     "output_type": "stream",
     "text": [
      "20\n"
     ]
    }
   ],
   "source": [
    "# 4. How many words are in title case\n",
    "print(len([word for word in word_tokenize(sent) if word.istitle()]))"
   ]
  },
  {
   "cell_type": "code",
   "execution_count": 13,
   "metadata": {},
   "outputs": [
    {
     "name": "stdout",
     "output_type": "stream",
     "text": [
      "The national flag of India , colloquially called Tiraṅgā ( the tricolour ) , is a horizontal rectangular tricolour flag , the colours being of India saffron , white and India green ; with the Ashoka Chakra , a 24-spoke wheel , in navy blue at its centre . [ ] [ ] It was adopted in its present form during a meeting of the Constituent Assembly held on July , and it became the official flag of the Union of India on August . The flag was subsequently retained as that of the Republic of India . In India , the term 'tricolour ' almost always refers to the Indian national flag .\n"
     ]
    }
   ],
   "source": [
    "# 5. Remove the numbers and print the text\n",
    "print(\" \".join([word for word in word_tokenize(sent) if not word.isdigit()]))"
   ]
  },
  {
   "cell_type": "code",
   "execution_count": null,
   "metadata": {},
   "outputs": [],
   "source": []
  }
 ],
 "metadata": {
  "kernelspec": {
   "display_name": "Python 3",
   "language": "python",
   "name": "python3"
  },
  "language_info": {
   "codemirror_mode": {
    "name": "ipython",
    "version": 3
   },
   "file_extension": ".py",
   "mimetype": "text/x-python",
   "name": "python",
   "nbconvert_exporter": "python",
   "pygments_lexer": "ipython3",
   "version": "3.11.9"
  }
 },
 "nbformat": 4,
 "nbformat_minor": 2
}
